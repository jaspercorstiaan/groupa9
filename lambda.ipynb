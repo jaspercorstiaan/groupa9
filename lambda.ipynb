import json
import boto3
import pickle

# load the logistic regression model from S3
s3 = boto3.client('s3')
bucket_name = 'datagroupa9'
model_file = 'logistic_regression.pkl'
model_obj = s3.get_object(Bucket=bucket_name, Key=model_file)
model_bytes = model_obj['Body'].read()
model = pickle.loads(model_bytes)

def lambda_handler(event, context):
    # load the input data from the API Gateway event
    data = json.loads(event['body'])
    
    # make a prediction using the model
    X = [
        data['no_of_adults'],
        data['no_of_children'],
        data['no_of_weekend_nights'],
        data['no_of_week_nights'],
        1 if data['type_of_meal_plan'] == 'Meal Plan 1' else 0,
        1 if data['type_of_meal_plan'] == 'Meal Plan 2' else 0,
        data['required_car_parking_space'],
        1 if data['room_type_reserved'] == 'Room_Type 2' else 0,
        1 if data['room_type_reserved'] == 'Room_Type 3' else 0,
        1 if data['room_type_reserved'] == 'Room_Type 4' else 0,
        data['lead_time'],
        data['arrival_month'],
        data['arrival_date'],
        1 if data['market_segment_type'] == 'Online' else 0,
        1 if data['market_segment_type'] == 'Offline' else 0,
        data['repeated_guest'],
        data['no_of_previous_cancellations'],
        data['no_of_previous_bookings_not_canceled'],
        data['avg_price_per_room'],
        data['no_of_special_requests']
    ]
    # fill missing features with defaults
    X += [0] * (27 - len(X))
    
    prediction = model.predict([X])[0]
    
    # return the prediction as a JSON response
    response = {
        'statusCode': 200,
        'headers': {'Content-Type': 'application/json'},
        'body': json.dumps({'prediction': int(prediction)})
    }
    
    return response
